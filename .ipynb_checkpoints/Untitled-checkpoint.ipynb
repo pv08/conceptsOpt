{
 "cells": [
  {
   "cell_type": "code",
   "execution_count": 1,
   "id": "74a9fd66-c16f-41d1-bc72-167f3058b4df",
   "metadata": {},
   "outputs": [],
   "source": [
    "import pandas as pd\n",
    "import numpy as np\n",
    "from pyomo.environ import *"
   ]
  },
  {
   "cell_type": "code",
   "execution_count": 2,
   "id": "dad5637e-d21f-4eb1-ae64-22603912bb07",
   "metadata": {},
   "outputs": [],
   "source": [
    "class Network:\n",
    "    def __init__(self):\n",
    "        self.h = 0.25\n",
    "        self.delta = 0.01\n",
    "        self.base = 100\n",
    "        self.ref_bus_i = 0\n",
    "        self.DGER = pd.DataFrame([{'BARRA': 1, 'CUSTO': 10, 'MAX': 30, 'MIN': 5, 'RAMPA': 10, 'CO2': 90},\n",
    "                                  {'BARRA': 2, 'CUSTO': 30, 'MAX': 40, 'MIN': 15, 'RAMPA': 5, 'CO2': 10},\n",
    "                                  {'BARRA': 3, 'CUSTO': 100, 'MAX': 40, 'MIN': 0, 'RAMPA': 3, 'CO2': 70}])\n",
    "\n",
    "        self.DLIN = pd.DataFrame([{'DE': 1, 'PARA': 2, 'SUSCEPTANCIA': 33/self.base, 'CONDUTANCIA': 25/self.base, 'LIMITES': 20/self.base},\n",
    "                                  {'DE': 1, 'PARA': 3, 'SUSCEPTANCIA': 50/self.base, 'CONDUTANCIA': 20/self.base, 'LIMITES': 25/self.base},\n",
    "                                  {'DE': 1, 'PARA': 3, 'SUSCEPTANCIA': 50/self.base, 'CONDUTANCIA': 20/self.base, 'LIMITES': 25/self.base},\n",
    "                                  {'DE': 2, 'PARA': 3, 'SUSCEPTANCIA': 50/self.base, 'CONDUTANCIA': 20/self.base, 'LIMITES': 30/self.base}])\n",
    "\n",
    "        self.DEMANDA = pd.DataFrame([{'HORA': 1, 'BARRA1': 0, 'BARRA2': 40, 'BARRA3': 30},\n",
    "                                     {'HORA': 2, 'BARRA1': 0, 'BARRA2': 43, 'BARRA3': 25},\n",
    "                                     {'HORA': 3, 'BARRA1': 0, 'BARRA2': 25, 'BARRA3': 25}])\n"
   ]
  },
  {
   "cell_type": "code",
   "execution_count": 34,
   "id": "df16d9bd-9246-4b7a-83c7-e041cbab1902",
   "metadata": {},
   "outputs": [
    {
     "data": {
      "text/plain": [
       "array([ 0, 40, 30])"
      ]
     },
     "execution_count": 34,
     "metadata": {},
     "output_type": "execute_result"
    }
   ],
   "source": []
  },
  {
   "cell_type": "code",
   "execution_count": 3,
   "id": "76a40b63-2d59-47cb-aaf1-a9e0cfe6803d",
   "metadata": {},
   "outputs": [],
   "source": [
    "class BBus:\n",
    "    def __init__(self, DBAR, DLIN):\n",
    "        self.DLIN = DLIN\n",
    "        self.b_ = np.zeros((DBAR.shape[0], DBAR.shape[0]))\n",
    "        self.create_triangular_admittance()\n",
    "        self.create_main_diagonal()\n",
    "        \n",
    "        \n",
    "    def create_triangular_admittance(self):\n",
    "        for i, row in network.DLIN.iterrows():\n",
    "            _b_k = int(row['DE'] - 1)\n",
    "            _b_m = int(row['PARA'] - 1)\n",
    "            self.b_[_b_k, _b_m] += row['SUSCEPTANCIA']\n",
    "            self.b_[_b_m, _b_k] += row['SUSCEPTANCIA']\n",
    "    \n",
    "    def create_main_diagonal(self):\n",
    "        for k in range(self.b_.shape[0]):\n",
    "            self.b_[k, k] = sum(self.b_[k,:]) * (-1)"
   ]
  },
  {
   "cell_type": "code",
   "execution_count": 4,
   "id": "df3a0974-c1fa-48d7-8bab-1cd91db0776c",
   "metadata": {},
   "outputs": [],
   "source": [
    "def ger_limites(model, i, t):\n",
    "    return (network.DGER['MIN'][i], network.DGER['MAX'][i])\n",
    "def deficit_lim(model, i, t):\n",
    "    return (0, network.DEMANDA.iloc[t,i+1])"
   ]
  },
  {
   "cell_type": "code",
   "execution_count": 54,
   "id": "2bdc96b0-fb4c-44f7-b4ca-9a1eda167a09",
   "metadata": {},
   "outputs": [
    {
     "data": {
      "text/plain": [
       "array([[  inf,  0.33,  1.  ],\n",
       "       [ 0.33, -0.83,  0.5 ],\n",
       "       [ 1.  ,  0.5 , -1.5 ]])"
      ]
     },
     "execution_count": 54,
     "metadata": {},
     "output_type": "execute_result"
    }
   ],
   "source": [
    "network = Network()\n",
    "b_bus = BBus(network.DGER, network.DLIN)\n",
    "b_bus.b_[network.ref_bus_i, network.ref_bus_i] = np.inf\n",
    "b_bus.b_\n"
   ]
  },
  {
   "cell_type": "code",
   "execution_count": 6,
   "id": "e985d088-b1e0-4e5f-b724-717df2c6353f",
   "metadata": {},
   "outputs": [
    {
     "name": "stdout",
     "output_type": "stream",
     "text": [
      "pger : Size=9, Index=pger_index\n",
      "    Key    : Lower : Value : Upper : Fixed : Stale : Domain\n",
      "    (0, 0) :     5 :  None :    30 : False :  True : NonNegativeReals\n",
      "    (0, 1) :     5 :  None :    30 : False :  True : NonNegativeReals\n",
      "    (0, 2) :     5 :  None :    30 : False :  True : NonNegativeReals\n",
      "    (1, 0) :    15 :  None :    40 : False :  True : NonNegativeReals\n",
      "    (1, 1) :    15 :  None :    40 : False :  True : NonNegativeReals\n",
      "    (1, 2) :    15 :  None :    40 : False :  True : NonNegativeReals\n",
      "    (2, 0) :     0 :  None :    40 : False :  True : NonNegativeReals\n",
      "    (2, 1) :     0 :  None :    40 : False :  True : NonNegativeReals\n",
      "    (2, 2) :     0 :  None :    40 : False :  True : NonNegativeReals\n"
     ]
    }
   ],
   "source": [
    "model = ConcreteModel(\"CustoTermo\")\n",
    "model.pger = Var(range(network.DGER.shape[0]), range(network.DEMANDA.shape[0]), within=NonNegativeReals, bounds=ger_limites)\n",
    "model.EqCons = ConstraintList()\n",
    "model.pger.pprint()"
   ]
  },
  {
   "cell_type": "code",
   "execution_count": 7,
   "id": "f77c110f-ae6c-4824-bcd2-42658c01d5a7",
   "metadata": {},
   "outputs": [
    {
     "name": "stdout",
     "output_type": "stream",
     "text": [
      "deficit : Size=9, Index=deficit_index\n",
      "    Key    : Lower : Value : Upper : Fixed : Stale : Domain\n",
      "    (0, 0) :     0 :  None :     0 : False :  True : NonNegativeReals\n",
      "    (0, 1) :     0 :  None :     0 : False :  True : NonNegativeReals\n",
      "    (0, 2) :     0 :  None :     0 : False :  True : NonNegativeReals\n",
      "    (1, 0) :     0 :  None :    40 : False :  True : NonNegativeReals\n",
      "    (1, 1) :     0 :  None :    43 : False :  True : NonNegativeReals\n",
      "    (1, 2) :     0 :  None :    25 : False :  True : NonNegativeReals\n",
      "    (2, 0) :     0 :  None :    30 : False :  True : NonNegativeReals\n",
      "    (2, 1) :     0 :  None :    25 : False :  True : NonNegativeReals\n",
      "    (2, 2) :     0 :  None :    25 : False :  True : NonNegativeReals\n"
     ]
    }
   ],
   "source": [
    "model.deficit = Var(range(network.DGER.shape[0]), range(network.DEMANDA.shape[0]), within=NonNegativeReals, bounds=deficit_lim)\n",
    "model.deficit.pprint()"
   ]
  },
  {
   "cell_type": "code",
   "execution_count": 8,
   "id": "13be0ad5-c17a-46c9-ba2e-61779389c5df",
   "metadata": {},
   "outputs": [
    {
     "name": "stdout",
     "output_type": "stream",
     "text": [
      "obj : Size=1, Index=None, Active=True\n",
      "    Key  : Active : Sense    : Expression\n",
      "    None :   True : minimize : 0.01*(10*pger[0,0] + 10000*deficit[0,0]) + 22.275*pger[0,0] + 0.01*(30*pger[1,0] + 10000*deficit[1,0]) + 2.475*pger[1,0] + 0.01*(100*pger[2,0] + 10000*deficit[2,0]) + 17.325*pger[2,0] + 0.01*(10*pger[0,1] + 10000*deficit[0,1]) + 22.275*pger[0,1] + 0.01*(30*pger[1,1] + 10000*deficit[1,1]) + 2.475*pger[1,1] + 0.01*(100*pger[2,1] + 10000*deficit[2,1]) + 17.325*pger[2,1] + 0.01*(10*pger[0,2] + 10000*deficit[0,2]) + 22.275*pger[0,2] + 0.01*(30*pger[1,2] + 10000*deficit[1,2]) + 2.475*pger[1,2] + 0.01*(100*pger[2,2] + 10000*deficit[2,2]) + 17.325*pger[2,2]\n"
     ]
    }
   ],
   "source": [
    "def obj_fn(model):\n",
    "    fob = 0\n",
    "    for t in range(network.DEMANDA.shape[0]):\n",
    "        for ger in range(network.DGER.shape[0]):\n",
    "            f_c = network.delta * ((network.DGER.iloc[ger]['CUSTO'] * model.pger[ger, t]) + (model.deficit[ger, t] * 10000))\n",
    "            f_e = (1 - network.delta) * network.h * network.DGER.iloc[ger]['CO2'] * model.pger[ger, t]\n",
    "            fob += f_c + f_e\n",
    "    return fob\n",
    "model.obj = Objective(rule = obj_fn, sense=minimize)\n",
    "model.obj.pprint()"
   ]
  },
  {
   "cell_type": "code",
   "execution_count": 9,
   "id": "1e0815ec-ad35-4cc1-a09b-d57d6b803f21",
   "metadata": {},
   "outputs": [
    {
     "name": "stdout",
     "output_type": "stream",
     "text": [
      "EqCons : Size=3, Index=EqCons_index, Active=True\n",
      "    Key : Lower : Body                                                                           : Upper : Active\n",
      "      1 :  70.0 : pger[0,0] + deficit[0,0] + pger[1,0] + deficit[1,0] + pger[2,0] + deficit[2,0] :  70.0 :   True\n",
      "      2 :  68.0 : pger[0,1] + deficit[0,1] + pger[1,1] + deficit[1,1] + pger[2,1] + deficit[2,1] :  68.0 :   True\n",
      "      3 :  50.0 : pger[0,2] + deficit[0,2] + pger[1,2] + deficit[1,2] + pger[2,2] + deficit[2,2] :  50.0 :   True\n"
     ]
    }
   ],
   "source": [
    "for t in range(network.DEMANDA.shape[0]):\n",
    "    _ger = 0\n",
    "    for ger in range(network.DGER.shape[0]):\n",
    "        _ger += model.pger[ger, t] + model.deficit[ger, t]\n",
    "    model.EqCons.add(_ger == sum(network.DEMANDA.iloc[t,1:]))\n",
    "model.EqCons.pprint()"
   ]
  },
  {
   "cell_type": "code",
   "execution_count": 10,
   "id": "64149b64-adfb-460b-88d1-d6f97a2e36fb",
   "metadata": {},
   "outputs": [],
   "source": [
    "solver = SolverFactory('glpk')\n",
    "results = solver.solve(model, tee=False)"
   ]
  },
  {
   "cell_type": "code",
   "execution_count": 13,
   "id": "e52d5c43-8d22-49ca-b70c-7cea06593b62",
   "metadata": {},
   "outputs": [
    {
     "name": "stdout",
     "output_type": "stream",
     "text": [
      "pger : Size=9, Index=pger_index\n",
      "    Key    : Lower : Value : Upper : Fixed : Stale : Domain\n",
      "    (0, 0) :     5 :   5.0 :    30 : False : False : NonNegativeReals\n",
      "    (0, 1) :     5 :   5.0 :    30 : False : False : NonNegativeReals\n",
      "    (0, 2) :     5 :   5.0 :    30 : False : False : NonNegativeReals\n",
      "    (1, 0) :    15 :  40.0 :    40 : False : False : NonNegativeReals\n",
      "    (1, 1) :    15 :  40.0 :    40 : False : False : NonNegativeReals\n",
      "    (1, 2) :    15 :  40.0 :    40 : False : False : NonNegativeReals\n",
      "    (2, 0) :     0 :  25.0 :    40 : False : False : NonNegativeReals\n",
      "    (2, 1) :     0 :  23.0 :    40 : False : False : NonNegativeReals\n",
      "    (2, 2) :     0 :   5.0 :    40 : False : False : NonNegativeReals\n"
     ]
    }
   ],
   "source": [
    "model.pger.display()"
   ]
  },
  {
   "cell_type": "code",
   "execution_count": 98,
   "id": "170017ad-1326-40f3-9f1c-24e1e59f943b",
   "metadata": {},
   "outputs": [],
   "source": [
    "def linear_powerFlow(p):\n",
    "    return (np.linalg.inv(b_bus.b_) * (-1) * p)[:,2]\n",
    "\n",
    "def power_p_km(o):\n",
    "    p = []\n",
    "    for i, row in network.DLIN.iterrows():\n",
    "        _b_k = int(row['DE'] - 1)\n",
    "        _b_m = int(row['PARA'] - 1)\n",
    "        flow = (o[_b_k] - o[_b_m]) / (1 / row['SUSCEPTANCIA'])\n",
    "        p.append(flow*network.base)\n",
    "    return p\n"
   ]
  },
  {
   "cell_type": "code",
   "execution_count": 99,
   "id": "282e7b62-3ad7-4cc1-892b-665f29c59a41",
   "metadata": {},
   "outputs": [
    {
     "name": "stdout",
     "output_type": "stream",
     "text": [
      "0.0 - -0.025125628140703515 /(1/ 0.33\n",
      "0.0 - -0.04170854271356784 /(1/ 0.5\n",
      "0.0 - -0.04170854271356784 /(1/ 0.5\n",
      "-0.025125628140703515 - -0.04170854271356784 /(1/ 0.5\n",
      "[0.829145728643216, 2.0854271356783918, 2.0854271356783918, 0.8291457286432161]\n"
     ]
    }
   ],
   "source": [
    "for t in range(network.DEMANDA.shape[0]):\n",
    "    _p = []\n",
    "    _demanda = []\n",
    "    for ger in range(network.DGER.shape[0]):\n",
    "        _p.append(model.pger[ger, t].value)\n",
    "        _demanda = network.DEMANDA.iloc[t,1:].values\n",
    "    _p_demanda = (_p - _demanda)/network.base\n",
    "    theta = linear_powerFlow(_p_demanda)\n",
    "    print(power_p_km(theta))\n",
    "    break"
   ]
  },
  {
   "cell_type": "code",
   "execution_count": 11,
   "id": "5f6e848b-84b6-4c90-bb99-313714f7045d",
   "metadata": {},
   "outputs": [
    {
     "name": "stdout",
     "output_type": "stream",
     "text": [
      "deficit : Size=9, Index=deficit_index\n",
      "    Key    : Lower : Value : Upper : Fixed : Stale : Domain\n",
      "    (0, 0) :     0 :   0.0 :     0 : False : False : NonNegativeReals\n",
      "    (0, 1) :     0 :   0.0 :     0 : False : False : NonNegativeReals\n",
      "    (0, 2) :     0 :   0.0 :     0 : False : False : NonNegativeReals\n",
      "    (1, 0) :     0 :   0.0 :    40 : False : False : NonNegativeReals\n",
      "    (1, 1) :     0 :   0.0 :    43 : False : False : NonNegativeReals\n",
      "    (1, 2) :     0 :   0.0 :    25 : False : False : NonNegativeReals\n",
      "    (2, 0) :     0 :   0.0 :    30 : False : False : NonNegativeReals\n",
      "    (2, 1) :     0 :   0.0 :    25 : False : False : NonNegativeReals\n",
      "    (2, 2) :     0 :   0.0 :    25 : False : False : NonNegativeReals\n"
     ]
    }
   ],
   "source": [
    "model.deficit.display()"
   ]
  },
  {
   "cell_type": "code",
   "execution_count": 12,
   "id": "a55e1759-3aa1-4494-9de9-3231dc8f1b4c",
   "metadata": {},
   "outputs": [
    {
     "name": "stdout",
     "output_type": "stream",
     "text": [
      "Status Final do Problema de Otimização: ok \n",
      "\n",
      "Condição de Término: optimal \n",
      "\n",
      "Resultado Função Objetivo: 1639.85 \n",
      "\n"
     ]
    }
   ],
   "source": [
    "print('Status Final do Problema de Otimização:', results.solver.status, '\\n')\n",
    "print('Condição de Término:', results.solver.termination_condition, '\\n')\n",
    "print('Resultado Função Objetivo:', value(model.obj), '\\n')"
   ]
  },
  {
   "cell_type": "code",
   "execution_count": null,
   "id": "80cdcae0-b852-447b-bd43-17c515b25664",
   "metadata": {},
   "outputs": [],
   "source": []
  }
 ],
 "metadata": {
  "kernelspec": {
   "display_name": "Python 3 (ipykernel)",
   "language": "python",
   "name": "python3"
  },
  "language_info": {
   "codemirror_mode": {
    "name": "ipython",
    "version": 3
   },
   "file_extension": ".py",
   "mimetype": "text/x-python",
   "name": "python",
   "nbconvert_exporter": "python",
   "pygments_lexer": "ipython3",
   "version": "3.12.0"
  }
 },
 "nbformat": 4,
 "nbformat_minor": 5
}
