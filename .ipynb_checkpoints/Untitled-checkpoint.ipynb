{
 "cells": [
  {
   "cell_type": "code",
   "execution_count": 1,
   "id": "74a9fd66-c16f-41d1-bc72-167f3058b4df",
   "metadata": {},
   "outputs": [],
   "source": [
    "import pandas as pd\n",
    "import numpy as np\n",
    "from pyomo.environ import *\n",
    "from scipy.optimize import linprog"
   ]
  },
  {
   "cell_type": "code",
   "execution_count": 2,
   "id": "dad5637e-d21f-4eb1-ae64-22603912bb07",
   "metadata": {},
   "outputs": [],
   "source": [
    "class Network:\n",
    "    def __init__(self):\n",
    "        self.DGER = pd.DataFrame([{'BARRA': 1, 'CUSTO': 10, 'MAX': 30, 'MIN': 5, 'RAMPA': 10, 'CO2': 90},\n",
    "                                  {'BARRA': 2, 'CUSTO': 30, 'MAX': 40, 'MIN': 15, 'RAMPA': 5, 'CO2': 10},\n",
    "                                  {'BARRA': 3, 'CUSTO': 100, 'MAX': 40, 'MIN': 0, 'RAMPA': 3, 'CO2': 70}])\n",
    "\n",
    "        self.DLIN = pd.DataFrame([{'DE': 1, 'PARA': 2, 'SUSCEPTANCIA': 33, 'CONDUTANCIA': 25, 'LIMITES': 20},\n",
    "                                  {'DE': 1, 'PARA': 3, 'SUSCEPTANCIA': 50, 'CONDUTANCIA': 20, 'LIMITES': 25},\n",
    "                                  {'DE': 1, 'PARA': 3, 'SUSCEPTANCIA': 50, 'CONDUTANCIA': 20, 'LIMITES': 25},\n",
    "                                  {'DE': 2, 'PARA': 3, 'SUSCEPTANCIA': 50, 'CONDUTANCIA': 20, 'LIMITES': 30}])\n",
    "\n",
    "        self.DEMANDA = pd.DataFrame([{'HORA': 1, 'BARRA1': 0, 'BARRA2': 40, 'BARRA3': 30},\n",
    "                                     {'HORA': 2, 'BARRA1': 0, 'BARRA2': 43, 'BARRA3': 25},\n",
    "                                     {'HORA': 3, 'BARRA1': 0, 'BARRA2': 25, 'BARRA3': 25}])"
   ]
  },
  {
   "cell_type": "code",
   "execution_count": 3,
   "id": "df3a0974-c1fa-48d7-8bab-1cd91db0776c",
   "metadata": {},
   "outputs": [],
   "source": [
    "def limites(i, t):\n",
    "    print(i, t, network.DGER['MIN'][i], network.DGER['MAX'][i])\n",
    "    return (network.DGER['MIN'][i], network.DGER['MAX'][i])"
   ]
  },
  {
   "cell_type": "code",
   "execution_count": 17,
   "id": "2bdc96b0-fb4c-44f7-b4ca-9a1eda167a09",
   "metadata": {},
   "outputs": [
    {
     "data": {
      "text/plain": [
       "10"
      ]
     },
     "execution_count": 17,
     "metadata": {},
     "output_type": "execute_result"
    }
   ],
   "source": [
    "network = Network()\n",
    "network.DGER.iloc[0]['CUSTO']"
   ]
  },
  {
   "cell_type": "code",
   "execution_count": 13,
   "id": "e985d088-b1e0-4e5f-b724-717df2c6353f",
   "metadata": {},
   "outputs": [
    {
     "name": "stdout",
     "output_type": "stream",
     "text": [
      "pger : Size=9, Index=pger_index\n",
      "    Key    : Lower : Value : Upper : Fixed : Stale : Domain\n",
      "    (0, 0) :     0 :  None :  None : False :  True : NonNegativeReals\n",
      "    (0, 1) :     0 :  None :  None : False :  True : NonNegativeReals\n",
      "    (0, 2) :     0 :  None :  None : False :  True : NonNegativeReals\n",
      "    (1, 0) :     0 :  None :  None : False :  True : NonNegativeReals\n",
      "    (1, 1) :     0 :  None :  None : False :  True : NonNegativeReals\n",
      "    (1, 2) :     0 :  None :  None : False :  True : NonNegativeReals\n",
      "    (2, 0) :     0 :  None :  None : False :  True : NonNegativeReals\n",
      "    (2, 1) :     0 :  None :  None : False :  True : NonNegativeReals\n",
      "    (2, 2) :     0 :  None :  None : False :  True : NonNegativeReals\n"
     ]
    }
   ],
   "source": [
    "model = ConcreteModel(\"CustoTermo\")\n",
    "model.pger = Var(range(network.DGER.shape[0]), range(network.DEMANDA.shape[0]),  within=NonNegativeReals)\n",
    "model.pger.pprint()"
   ]
  },
  {
   "cell_type": "code",
   "execution_count": 20,
   "id": "13be0ad5-c17a-46c9-ba2e-61779389c5df",
   "metadata": {},
   "outputs": [
    {
     "name": "stdout",
     "output_type": "stream",
     "text": [
      "WARNING: Implicitly replacing the Component attribute obj (type=<class\n",
      "'pyomo.core.base.objective.ScalarObjective'>) on block CustoTermo with a new\n",
      "Component (type=<class 'pyomo.core.base.objective.ScalarObjective'>). This is\n",
      "usually indicative of a modelling error. To avoid this warning, use\n",
      "block.del_component() and block.add_component().\n",
      "obj : Size=1, Index=None, Active=True\n",
      "    Key  : Active : Sense    : Expression\n",
      "    None :   True : minimize : 10*pger[0,0] + 30*pger[1,0] + 100*pger[2,0] + 10*pger[0,1] + 30*pger[1,1] + 100*pger[2,1] + 10*pger[0,2] + 30*pger[1,2] + 100*pger[2,2]\n"
     ]
    }
   ],
   "source": [
    "def obj_fn(model):\n",
    "    fob = 0\n",
    "    for t in range(network.DEMANDA.shape[0]):\n",
    "        for ger in range(network.DGER.shape[0]):\n",
    "            fob += network.DGER.iloc[ger]['CUSTO'] * model.pger[ger, t]\n",
    "    return fob\n",
    "model.obj = Objective(rule = obj_fn, sense=minimize)\n",
    "model.obj.pprint()"
   ]
  }
 ],
 "metadata": {
  "kernelspec": {
   "display_name": "Python 3 (ipykernel)",
   "language": "python",
   "name": "python3"
  },
  "language_info": {
   "codemirror_mode": {
    "name": "ipython",
    "version": 3
   },
   "file_extension": ".py",
   "mimetype": "text/x-python",
   "name": "python",
   "nbconvert_exporter": "python",
   "pygments_lexer": "ipython3",
   "version": "3.12.0"
  }
 },
 "nbformat": 4,
 "nbformat_minor": 5
}
