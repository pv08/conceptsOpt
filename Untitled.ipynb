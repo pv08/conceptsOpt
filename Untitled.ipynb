{
 "cells": [
  {
   "cell_type": "code",
   "execution_count": 1,
   "id": "74a9fd66-c16f-41d1-bc72-167f3058b4df",
   "metadata": {},
   "outputs": [],
   "source": [
    "import pandas as pd\n",
    "import numpy as np\n",
    "from pyomo.environ import *\n",
    "from scipy.optimize import linprog"
   ]
  },
  {
   "cell_type": "code",
   "execution_count": 2,
   "id": "dad5637e-d21f-4eb1-ae64-22603912bb07",
   "metadata": {},
   "outputs": [],
   "source": [
    "class Network:\n",
    "    def __init__(self):\n",
    "        self.DGER = pd.DataFrame([{'BARRA': 1, 'CUSTO': 10, 'MAX': 30, 'MIN': 5, 'RAMPA': 10, 'CO2': 90},\n",
    "                                  {'BARRA': 2, 'CUSTO': 30, 'MAX': 40, 'MIN': 15, 'RAMPA': 5, 'CO2': 10},\n",
    "                                  {'BARRA': 3, 'CUSTO': 100, 'MAX': 40, 'MIN': 0, 'RAMPA': 3, 'CO2': 70}])\n",
    "\n",
    "        self.DLIN = pd.DataFrame([{'DE': 1, 'PARA': 2, 'SUSCEPTANCIA': 33, 'CONDUTANCIA': 25, 'LIMITES': 20},\n",
    "                                  {'DE': 1, 'PARA': 3, 'SUSCEPTANCIA': 50, 'CONDUTANCIA': 20, 'LIMITES': 25},\n",
    "                                  {'DE': 1, 'PARA': 3, 'SUSCEPTANCIA': 50, 'CONDUTANCIA': 20, 'LIMITES': 25},\n",
    "                                  {'DE': 2, 'PARA': 3, 'SUSCEPTANCIA': 50, 'CONDUTANCIA': 20, 'LIMITES': 30}])\n",
    "\n",
    "        self.DEMANDA = pd.DataFrame([{'HORA': 1, 'BARRA1': 0, 'BARRA2': 40, 'BARRA3': 30},\n",
    "                                     {'HORA': 2, 'BARRA1': 0, 'BARRA2': 43, 'BARRA3': 25},\n",
    "                                     {'HORA': 3, 'BARRA1': 0, 'BARRA2': 25, 'BARRA3': 25}])"
   ]
  },
  {
   "cell_type": "code",
   "execution_count": 27,
   "id": "df3a0974-c1fa-48d7-8bab-1cd91db0776c",
   "metadata": {},
   "outputs": [],
   "source": [
    "def limites(model, i, t):\n",
    "    return (network.DGER['MIN'][i], network.DGER['MAX'][i])"
   ]
  },
  {
   "cell_type": "code",
   "execution_count": 41,
   "id": "2bdc96b0-fb4c-44f7-b4ca-9a1eda167a09",
   "metadata": {},
   "outputs": [
    {
     "data": {
      "text/plain": [
       "BARRA1     0\n",
       "BARRA2    40\n",
       "BARRA3    30\n",
       "Name: 0, dtype: int64"
      ]
     },
     "execution_count": 41,
     "metadata": {},
     "output_type": "execute_result"
    }
   ],
   "source": [
    "network = Network()\n",
    "network.DEMANDA.iloc[0,1:]"
   ]
  },
  {
   "cell_type": "code",
   "execution_count": 43,
   "id": "e985d088-b1e0-4e5f-b724-717df2c6353f",
   "metadata": {},
   "outputs": [
    {
     "name": "stdout",
     "output_type": "stream",
     "text": [
      "pger : Size=9, Index=pger_index\n",
      "    Key    : Lower : Value : Upper : Fixed : Stale : Domain\n",
      "    (0, 0) :     5 :  None :    30 : False :  True : NonNegativeReals\n",
      "    (0, 1) :     5 :  None :    30 : False :  True : NonNegativeReals\n",
      "    (0, 2) :     5 :  None :    30 : False :  True : NonNegativeReals\n",
      "    (1, 0) :    15 :  None :    40 : False :  True : NonNegativeReals\n",
      "    (1, 1) :    15 :  None :    40 : False :  True : NonNegativeReals\n",
      "    (1, 2) :    15 :  None :    40 : False :  True : NonNegativeReals\n",
      "    (2, 0) :     0 :  None :    40 : False :  True : NonNegativeReals\n",
      "    (2, 1) :     0 :  None :    40 : False :  True : NonNegativeReals\n",
      "    (2, 2) :     0 :  None :    40 : False :  True : NonNegativeReals\n"
     ]
    }
   ],
   "source": [
    "model = ConcreteModel(\"CustoTermo\")\n",
    "model.pger = Var(range(network.DGER.shape[0]), range(network.DEMANDA.shape[0]), within=NonNegativeReals, bounds=limites)\n",
    "model.EqCons = ConstraintList()\n",
    "model.pger.pprint()"
   ]
  },
  {
   "cell_type": "code",
   "execution_count": 44,
   "id": "13be0ad5-c17a-46c9-ba2e-61779389c5df",
   "metadata": {},
   "outputs": [
    {
     "name": "stdout",
     "output_type": "stream",
     "text": [
      "obj : Size=1, Index=None, Active=True\n",
      "    Key  : Active : Sense    : Expression\n",
      "    None :   True : minimize : 10*pger[0,0] + 30*pger[1,0] + 100*pger[2,0] + 10*pger[0,1] + 30*pger[1,1] + 100*pger[2,1] + 10*pger[0,2] + 30*pger[1,2] + 100*pger[2,2]\n"
     ]
    }
   ],
   "source": [
    "def obj_fn(model):\n",
    "    fob = 0\n",
    "    for t in range(network.DEMANDA.shape[0]):\n",
    "        for ger in range(network.DGER.shape[0]):\n",
    "            fob += network.DGER.iloc[ger]['CUSTO'] * model.pger[ger, t]\n",
    "    return fob\n",
    "model.obj = Objective(rule = obj_fn, sense=minimize)\n",
    "model.obj.pprint()"
   ]
  },
  {
   "cell_type": "code",
   "execution_count": 45,
   "id": "1e0815ec-ad35-4cc1-a09b-d57d6b803f21",
   "metadata": {},
   "outputs": [
    {
     "name": "stdout",
     "output_type": "stream",
     "text": [
      "EqCons : Size=3, Index=EqCons_index, Active=True\n",
      "    Key : Lower : Body                              : Upper : Active\n",
      "      1 :  70.0 : pger[0,0] + pger[1,0] + pger[2,0] :  70.0 :   True\n",
      "      2 :  68.0 : pger[0,1] + pger[1,1] + pger[2,1] :  68.0 :   True\n",
      "      3 :  50.0 : pger[0,2] + pger[1,2] + pger[2,2] :  50.0 :   True\n"
     ]
    }
   ],
   "source": [
    "for t in range(network.DEMANDA.shape[0]):\n",
    "    _ger = 0\n",
    "    for ger in range(network.DGER.shape[0]):\n",
    "        _ger += model.pger[ger, t]\n",
    "    model.EqCons.add(_ger == sum(network.DEMANDA.iloc[t,1:]))\n",
    "model.EqCons.pprint()"
   ]
  },
  {
   "cell_type": "code",
   "execution_count": 46,
   "id": "64149b64-adfb-460b-88d1-d6f97a2e36fb",
   "metadata": {},
   "outputs": [
    {
     "name": "stdout",
     "output_type": "stream",
     "text": [
      "WARNING: Could not locate the 'glpsol' executable, which is required for\n",
      "solver 'glpk'\n"
     ]
    },
    {
     "ename": "ApplicationError",
     "evalue": "No executable found for solver 'glpk'",
     "output_type": "error",
     "traceback": [
      "\u001b[1;31m---------------------------------------------------------------------------\u001b[0m",
      "\u001b[1;31mApplicationError\u001b[0m                          Traceback (most recent call last)",
      "Cell \u001b[1;32mIn[46], line 2\u001b[0m\n\u001b[0;32m      1\u001b[0m solver \u001b[38;5;241m=\u001b[39m SolverFactory(\u001b[38;5;124m'\u001b[39m\u001b[38;5;124mglpk\u001b[39m\u001b[38;5;124m'\u001b[39m)\n\u001b[1;32m----> 2\u001b[0m results \u001b[38;5;241m=\u001b[39m \u001b[43msolver\u001b[49m\u001b[38;5;241;43m.\u001b[39;49m\u001b[43msolve\u001b[49m\u001b[43m(\u001b[49m\u001b[43mmodel\u001b[49m\u001b[43m,\u001b[49m\u001b[43m \u001b[49m\u001b[43mtee\u001b[49m\u001b[38;5;241;43m=\u001b[39;49m\u001b[38;5;28;43;01mFalse\u001b[39;49;00m\u001b[43m)\u001b[49m\n",
      "File \u001b[1;32m~\\Anaconda3\\envs\\conceptsOpt\\Lib\\site-packages\\pyomo\\opt\\base\\solvers.py:533\u001b[0m, in \u001b[0;36mOptSolver.solve\u001b[1;34m(self, *args, **kwds)\u001b[0m\n\u001b[0;32m    530\u001b[0m \u001b[38;5;28;01mdef\u001b[39;00m \u001b[38;5;21msolve\u001b[39m(\u001b[38;5;28mself\u001b[39m, \u001b[38;5;241m*\u001b[39margs, \u001b[38;5;241m*\u001b[39m\u001b[38;5;241m*\u001b[39mkwds):\n\u001b[0;32m    531\u001b[0m \u001b[38;5;250m    \u001b[39m\u001b[38;5;124;03m\"\"\"Solve the problem\"\"\"\u001b[39;00m\n\u001b[1;32m--> 533\u001b[0m     \u001b[38;5;28;43mself\u001b[39;49m\u001b[38;5;241;43m.\u001b[39;49m\u001b[43mavailable\u001b[49m\u001b[43m(\u001b[49m\u001b[43mexception_flag\u001b[49m\u001b[38;5;241;43m=\u001b[39;49m\u001b[38;5;28;43;01mTrue\u001b[39;49;00m\u001b[43m)\u001b[49m\n\u001b[0;32m    534\u001b[0m     \u001b[38;5;66;03m#\u001b[39;00m\n\u001b[0;32m    535\u001b[0m     \u001b[38;5;66;03m# If the inputs are models, then validate that they have been\u001b[39;00m\n\u001b[0;32m    536\u001b[0m     \u001b[38;5;66;03m# constructed! Collect suffix names to try and import from solution.\u001b[39;00m\n\u001b[0;32m    537\u001b[0m     \u001b[38;5;66;03m#\u001b[39;00m\n\u001b[0;32m    538\u001b[0m     \u001b[38;5;28;01mfrom\u001b[39;00m \u001b[38;5;21;01mpyomo\u001b[39;00m\u001b[38;5;21;01m.\u001b[39;00m\u001b[38;5;21;01mcore\u001b[39;00m\u001b[38;5;21;01m.\u001b[39;00m\u001b[38;5;21;01mbase\u001b[39;00m\u001b[38;5;21;01m.\u001b[39;00m\u001b[38;5;21;01mblock\u001b[39;00m \u001b[38;5;28;01mimport\u001b[39;00m _BlockData\n",
      "File \u001b[1;32m~\\Anaconda3\\envs\\conceptsOpt\\Lib\\site-packages\\pyomo\\opt\\solver\\shellcmd.py:141\u001b[0m, in \u001b[0;36mSystemCallSolver.available\u001b[1;34m(self, exception_flag)\u001b[0m\n\u001b[0;32m    139\u001b[0m     \u001b[38;5;28;01mif\u001b[39;00m exception_flag:\n\u001b[0;32m    140\u001b[0m         msg \u001b[38;5;241m=\u001b[39m \u001b[38;5;124m\"\u001b[39m\u001b[38;5;124mNo executable found for solver \u001b[39m\u001b[38;5;124m'\u001b[39m\u001b[38;5;132;01m%s\u001b[39;00m\u001b[38;5;124m'\u001b[39m\u001b[38;5;124m\"\u001b[39m\n\u001b[1;32m--> 141\u001b[0m         \u001b[38;5;28;01mraise\u001b[39;00m ApplicationError(msg \u001b[38;5;241m%\u001b[39m \u001b[38;5;28mself\u001b[39m\u001b[38;5;241m.\u001b[39mname)\n\u001b[0;32m    142\u001b[0m     \u001b[38;5;28;01mreturn\u001b[39;00m \u001b[38;5;28;01mFalse\u001b[39;00m\n\u001b[0;32m    143\u001b[0m \u001b[38;5;28;01mreturn\u001b[39;00m \u001b[38;5;28;01mTrue\u001b[39;00m\n",
      "\u001b[1;31mApplicationError\u001b[0m: No executable found for solver 'glpk'"
     ]
    }
   ],
   "source": [
    "solver = SolverFactory('glpk')\n",
    "results = solver.solve(model, tee=False)"
   ]
  },
  {
   "cell_type": "code",
   "execution_count": null,
   "id": "a55e1759-3aa1-4494-9de9-3231dc8f1b4c",
   "metadata": {},
   "outputs": [],
   "source": []
  }
 ],
 "metadata": {
  "kernelspec": {
   "display_name": "Python 3 (ipykernel)",
   "language": "python",
   "name": "python3"
  },
  "language_info": {
   "codemirror_mode": {
    "name": "ipython",
    "version": 3
   },
   "file_extension": ".py",
   "mimetype": "text/x-python",
   "name": "python",
   "nbconvert_exporter": "python",
   "pygments_lexer": "ipython3",
   "version": "3.12.0"
  }
 },
 "nbformat": 4,
 "nbformat_minor": 5
}
